{
 "cells": [
  {
   "cell_type": "code",
   "execution_count": 113,
   "id": "1438f557",
   "metadata": {},
   "outputs": [],
   "source": [
    "from tensorflow.keras.datasets import imdb \n",
    "from tensorflow.keras.models import Sequential \n",
    "from tensorflow.keras.layers import Dense, Embedding, Flatten, LSTM\n",
    "from tensorflow.keras import utils \n",
    "from tensorflow.keras.preprocessing.sequence import pad_sequences \n",
    "import numpy as np \n",
    "import matplotlib.pyplot as plt \n",
    "%matplotlib inline"
   ]
  },
  {
   "cell_type": "code",
   "execution_count": 114,
   "id": "6334eb31",
   "metadata": {},
   "outputs": [
    {
     "name": "stdout",
     "output_type": "stream",
     "text": [
      " This book has its good points. If anything, it helps you put into words what you want  from a supervisor, but it is not very accurate. The online test does not account for a difference between when 2 of their options are both exactly like you, or if they don't describe you at all. This messes up the results, and it did not describe me very well. I am not just in denial. I have taken a lot of personality type tests, like the Keirsey Temperment sorter and have a pretty good idea of my strengths. So, although this book is pretty good in making you understand the importance of incouraging your strengths, it still leaves you wondering about how you fit in to their terminology.  As for using this book as a manager to better serve your employees, I'v seen it done and it does not necessarily work because the strengths spit out for people were not wholly accurate. The company I work for has done this, and most of the people who were shifted around to better serve their strengths (according to this book) are very unhappy in their new positions.  Your money can be spent better elsewhere. I say its only worth about $10   I was intrigued by the title, which supposedly links Jedi wisdom to Christianity.  Well, after 60 pages or so, I have got the feeling that the Staub is trying to wrap Jedi in Christian cloth and failing at that. The author speaks of the difficulty in leading a Christian life.  But, I say that any religious life (be it Christian, Islam or otherwise) is hard because it turns the back on the norm or the conventional.   I am convinced that Yoda is a Zen master; the Force is derived from Tao, not God as interpreted by the orthodox religion(I am purposefully leaving out Christian Mysticism, which is another beast altogether.). A better book on the subject of theology in Star wars is \"The Dharma of Star Wars.\"   I admit, I haven't finished this book.  A friend recommended it to me as I have been having problems with insomnia.  I was interested in reading a book about women's health issues and this one sounded intriguing UNTIL she started in with her tarot cards, interest in astrology and angels.  Granted, I am not a firm believer in just \"the hard facts\" but its really hard to believe anything this woman writes after it is clear that common sense isn't alternative enough for her!   I tried reading this book but found it so turgid and poorly written that I put it down in frustration.  It reads like a translation from another language by an academic bureacrat. The theme is interesting, the execution poor.  Cannot recommend   Why is it ever time you want something bad enough it usually turns out bad? After the wonderful Quinn trilogy fans (including me) begged and begged for Nora Roberts to write Seth's story. After all we journeyed with Seth through we wanted to see him fall in love. Nora Roberts repeatedly said she would not write one. But us fans kept on begging for it and were excited when she finally gave in and wrote it. And we got Chesapeake Blue. Reading it you know you should be grateful because you wanted Seth's story but....this wasn't what I (and my fellow NR fans friends) wanted. First of all I wanted the heroine to be Aubrey. After their beautiful friendship in the Quinn trilogy I expected her to be Seth's love interest. But I tried to keep an open mind after all I loved Anna, Grace, and Sybill, but Dru Whitcomb Banks was a completely let down. All she did was whine and complain about her life which were minor compared to what Cam, Ethan, Philip, and Seth experienced as children. Seth becoming an artist was a surprise too I expected him to join the family business and design boats. The Gloria blackmailing him was a very thin and bad plotline. There's no reason Gloria would want to contact him considering all the warrents for her and that Seth wouldn't tell his family considering the Quinn Brothers (and wives)worked their so hard to keep him away from her. I closed this book vowing never to request, beg or petition an author to write a book when they say they don't want to. Because this is what you get   I have been a fan of Sue Henry since her first Jessie Arnold mystery.  I was looking forward to reading her lastest adventure, but was very disappointed in this outing.  The characters were one-dimensional.  After discovering who the \"bad guys\" were I needed to reread part of the book for clarification.  Sue Henry has a very annoying habit of foreshadowing at the end of many of her chapters.  \"...they hadn't a notion just how decidedly things could - and would - change in the next few hours.\"  Even the relationship between Alex and Jessie seemed stilted.  I realize it is difficult to create plausible mysteries for a civilian like musher Jessie Arnold, but this book tried too hard and accomplished too little   Heinlein loads this book up with hooks in the early pages to catch your attention.  Unfortunately, these hooks turn out to be superfluous and lead nowhere.  This shoddy technique is found in all four of Hienlein's final books.  We are also treated to some of Heinlein's stock characters, dirty old men, horny female computers, naked adolescent girls, and dominant beauties who would be right at home in leather and whips.  Without these archetype characters most Heinlein novels written after 1970 would have a sparse population indeed.  As if this isn't enough, Heinlein drags in his usual cast of characters from his other novels as he is so prone to doing.  In spite of all their cameo appearances, this group remains dull and one dimensional throughout.  Heinlein's earlier novels written prior to 1960 are still fine fare for young people, especially boys.  This novel, as well as most of Heinlein's later work will be enjoyed primarily by a group of die hard fans and is definitely not for general consumption   I hope the ending is illogical at least and is fiction. If thoughts are that powerful, they need to be resrained earlier. I don't know who survivied but he might feel very guilty about the others earlier and question if he had to survive. Logic can be quite painful when left alone, but sometimes it has to be   How can a best-selling author like Simon Winchester take an event as exciting as the San Francisco Earthquake of 1906 and turn it into a tedious snooze-fest? One answer: write as if you had just discovered an adjective mine and were free to throw in extra descripitive terms on every line until listeners scream for an end to florid phrases. Another: strive to break the record for most clich?s in a single paragraph. Finally: write about events in 1906 as if no one but Simon Winchester had ever before thought about their consequences -- thus, everything in this tedious narrative becomes about Simon. Simon and the raccoons; Simon on the failing American economy; Simon attempting to reproduce American accents. This is a CD set for avoiding   I agree with the reviewer who said this work is boring. It seems Roth is trying to glorify Philip Roth and not the characters. He goes on and on describing the overwhelming feelings zuckermann has for \"the swede\", without letting us know who the Swede really is. Roth should let the characters tell the story or try to use less erudition in his narration. It gets to the point where the reader loses interest in finishing the book. I loved the plot against american because it was more character based than philosophizing about about the historical context of the times   I echo the comments of the previous reviewers.  Don't waste your money.  Not only does this book present a tedious repetition of facts and stories already well known to even a casual U2 fan, it can't even get those facts right!  The book states that Bono's father dropped the family off at a Catholic Church before driving himself to another church.  This contradicts the correct statement on the preceding page that Bob Hewson was Catholic, while Bono, his mother and brother were Protestant.  In the same paragraph the Dublin neighborhood of \"Glasnevin\" is misspelled \"Asnevin\".  The hearing aid shop from which Bono took his name is misspelled, and perhaps most galling of all, the author can't even get the full name of Larry Mullen, Jr. right!  And this is just chapter one!    I have to agree that this book was simply thrown together to make a quick buck and therefore not worth purchasing.  I would suggest skipping this one and purchasing Bono: In Conversation With Michka Assayas, which includes a pretty good account of Bono's life from the man himself.    Let me see how many books can I write to preach to the choir about the same thing. She must of got dumped by a handful of Liberal boyfriends (what intellegent person would want her) and now she's trying to get back at 'em. Can't wait for the next \"I hate liberals so much and here are my reasons why\" book. She should join Fox she would fit right in   Anyone with intelligence can see that Ann Coulter is not attempting to make any meaningful or objective analysis of politics.  She is using inflammatory marketing to stir up the emotions of the most die-hard, flag-waving conservatives.  Until this attention-seeking labeling of other Americans as 'good' or 'bad' stops, there will never be true understanding of the complexties of American politics or foreign policy by the general public.  I don't agree with Bush's war and I didnt vote for him.  But he's not a 'bad person'; he did not invade Iraq because he is 'evil' or 'stupid'.  I can appreciate both sides of an argument; I can avoid generic categorizations.  I would never watch any news, liberal or conservative, that had a clear political bias.  Why can't Ann Coulter arrive at this same level of common sense?  Well, she wouldnt sell as many books; she wouldnt be on TV.  It has to be \"Liberals Hate America\" or \"The Conservative Nazi Agenda\".  We have the duty as thinking Americans, in the most advanced free country in the world, in these modern times of massive amounts of free information, to STOP PAYING ATTENTION TO THIS GARBAGE.  Get the facts and stop relying on a figurehead to spoon feed you your opinions   All throughtout this book Alex Delaware and his police friend Milo never stop ruminating over every new fact they uncover.  They have endless discussions on how a new tidbit might fit into the overall picture.  The reader longs for the pair to actually do something.  In the end the author walks away without even tying up all the main strings.  That is really dirty pool after making the reader wade through all the yakking.  I read and enjoyed several of the early Alex Delaware books and then quit looking for new ones, now I know why   This book was so different from the usual NR story.  The burn scenes were too graphic and the rape scene was too graphic.  If you want romance, skip this.  It also seemed to take forever to get the book set up   This book is offensive to at least one of the two genders, though it's hard to say which. It suggests that a man whose brain was transplanted into that of a sensual woman would become a wanton harlot, more or less. Whether that's more insulting to the male brain or the female body, I'm not sure, but the book portrays neither gender realistically.  I like Heinlein, and the first 100 or so pages of this book show a lot of potential, but after that the book descends into vapid sexual morass, and it's not even particularly good at being that.  The gender-swapping theme has been a common one in fiction and film in the last 30 years or so, but Heinlein joined the ranks of the many authors and directors who treated it as a chance to write pseudo-enlightened erotica instead of literature. More's the pity   Why in the world would anyone publish a writer's bread and butter notes to his agent?  Besides the money, I mean.  There are a couple or three interesting fulminations against this publisher or that editor, whom Heinlein feels did him dirty.  But in the main this body of correspondence is of zero interest to any but the most complete worshipers of the sf master.  Just enjoy the stories, and nevermind the workaday business of how they got published   I thought it was me until I read several other reviews of Predator.  Ms. Cornwell can do so much better than this disjointed mess.  If she's going to continue the Scarpetta series, she needs to get back on track, creating characters that we care about.  I finished this book as quickly as possible just to get it behind me.  What a disappointment   I did not finish the book (I got about 70% of the way through before I realized I could not bear to read one more page).  Maybe the remaining part of the book would have been better, but I doubt it.  This is the first time I can ever remember not even having even the slightest interesting in finishing a book.  The characters were flat and plot went nowhere.  Please - there are million of books out there.  Spare yourself, and find something else to read. Anything.   This is an overwritten and overhyped piece of fiction that will never pass for great literature. It is timely but it is not timeless.    Not one character comes alive even though they all talk endlessly. Not one scene is memorable. The true nature of the book -- soap opera-- is cloaked under its many pages.   Messud is a good writer who in this instance could not tell a good story, and she seems to have believed her publicity machine.  I can't believe that her husband, who a great literary critic, would not talk her out of publishing this.  Oh.  I forgot.  Money and fame trumps quality every time.   I thought the title was interesting so I bought this book.  Wow, what a disappointment.  This is sappy and poorly written.  How does Mitch Albom keep  getting on the best sellers list   I admit, I haven't finished this book.  A friend recommended it to me as I have been having problems with insomnia.  I was interested in reading a book about women's health issues and this one sounded intriguing UNTIL she started in with her tarot cards, interest in astrology and angels.  Granted, I am not a firm believer in just \"the hard facts\" but its really hard to believe anything this woman writes after it is clear that common sense isn't alternative enough for her!   You all like misogynist comics   despite early promise, marked by intriguing personal observations and evident self-reflection, this effort fails to deliver on the author's experience and acumen.  the book is a disparate set of chapters and lacks a unitary thread, apart from a bitter leavening of asides on the shortcomings of United States rhetoric and policies on Africa.  i had hoped for more, given the fine record in newsprint of this well-traveled journalist.    I read some raving reviews about this book, but I admit, I was quite disappointed.  Factual, I'm sure, but it lacks details and tries to touch on too much without going into any depth.  Many other pregnancy books go into further detail   The characters are uninteresting and 2-dimensional, the dialog hackneyed. I have no idea why it's on the New York Times Bestseller list. It was more of an obligation for me to finish this book than anything else. Don't waste your money   I've been following the Alex Cross series from its beginning, and after reading Cat & Mouse, I'm wondering if Patterson has taken these characters as far as they can go... Given the fact that there are 7 or 8 more Cross books written subsequently to this one, I can only hope that the series gets better.  My complains are similar to those of other reviewers:  1. I'm getting sick of the perfection of Alex Cross.  The man's a saintly father, saintly grandson, saintly lover, saintly charity worker, and saintly detective.  These traits hooked the reader and made Cross an intriguing character, but he's fast becoming too one-dimensional.  2. The Cross/Sampson relationship.  As if we weren't sick enough of this already.  Every few chapters, we're reminded of the man-crush Cross and Sampson have on each other.  Sampson is so perfect in Cross's eyes that it becomes tiresome to hear about it every time Sampson enters a scene.  3. The Cross/Christine Johnson relationship moves WAY too fast.  One moment Christine is still mourning the loss of her husband (who was viciously murdered 6 months prior in Jack & Jill) and freaks out over an innocent dinner date, and the next she and Cross are madly in love.  No development whatsoever, no line from Point A to Point B.  4. I'm not sure Patterson could have written the dialogue between Cross and his children any more unrealistically.  Aren't these 7- and 9-year-old children?  He has more intelligent conversations with his kids than he does with Sampson or Kyle Craig.  5. The entire novel is a series of pseudo-climaxes which are ultimately resolved by plot twists that seemingly arrive from left field.  The Soneji resolution was anti-climactic at best, and the Mr. Smith conclusion was unfulfilling   If you are looking for a book that does a cover to cover job of bashing western civilization with complete and obvious bias, this is it.   One of the blurbs I read on the book jacket compared this book to Into Thin Air and The Perfect Storm. No way!. Those two books were edge-of-your-seat reading experiences. This account of a kayaking expedition is just plain boring. The action doesn't start until about halfway or more into the book and even then, the cliched writing and deification of Balf's subjects make this book very hard to get through. Unless you are a serious kayaking fan, I would not recommend this book   I had somewhat forgotten how Greg Bear wrote.  His descriptions of the  Jart are so obscure and long-winded, the reader may as well just turn the  page.  I found it annoying that Greg Bear attempted to invent even more  words in this book than Eon.  My largest complaint however resided in the  high number of typos, duplicated words, letters dropped etc that made the  reading even more disruptive.  It really looked like there had been global  replacements as the same errors were repeated.  While I'd admit that an  author is more concerned with flow, plot, and technical accuracy - the  editor should review with a little more care to the fundamentals   I was very disapointed in the book.Basicly the writer took bits and pieces from books written by others,twisted their words and put his own spin on it.It repeats itself over and over being so repetative I had to put it down.There are good books out there written by people who were there.I suggest you take a look at those.I read many good one's but this book wasnt in that catagory   This story is very dark, full of menace and dark thoughts. Not great for kids. OK for adults if that's what you like. A hard story, not much gentleness in it except for a couple of moments   Many reviewers compared this novel to Jurassic Park, saying it was a better book than Crichton's. What absurdity. I am not saying that JP is an awesome book, but it was far better than Tyrannosaur Canyon.  Tyrannosaur Canyon is a fairly intriguing story, but poorly executed and VERY poorly ended. It's as though Preston suddenly realized that he was going to have to get his characters out of the predicament he had put them in, and didn't know how to do it. The ending is too fast, too unlikely and too unrealistic.  The book closes with a theistic comment by one of the characters, which I believe is Preston's way of attempting to belong to both camps, having his science AND being religious.  Overall, I had high hopes for this book and I am sorry to say that in the last 100 pages, I was greatly let down    First of all, I did not exactly 'read' this biography. Instead I purchased the CD version which I distilled via my car sound system every morning on my way to work (I have enjoyed countless biographies of great american figures this way, and still been able to read many more technology related books).  I had great expectations from this book, having recently enjoyed three biographies of Lincoln. I have to confess that I was sorely disapointed. I found the research of Mr McCullough to lack the kind of details that I have enjoyed in biographies from Walter Isaacson, Richard Carwardine, or Doris Goodwin. I do not seek a beautiful story in a biography, but rather a reliable source of facts that I can use to form my own opinion of a character. In this context, I find Mr McCullough's use of superlatives or long emotionally charged sentences to be a distraction from the subject matter of John Adams and his contribution to America. I also enjoy direct quotes from letters, speaches, autobiographies, as they help me refine my impressions of the context (the period, the relationships to contemporary characters, ...) surounding a promonent figure. Usage of the English language in politics has dramatically evolved since Mr Adams' time, and I missed 'hearing' the voice of John Adams. Instead, this biography felt like reading a translation where the personality of the translator overshadows the personality of the original author. Finally, having read other biographies of the founding fathers, I was disapointed to find so little about the complex relationship between Adams and Franklin.  All in all, my lasting impression is that Mr McCullough did a great job at bringing John Adams and the early American Revolution to the masses through a very appealling product that may however leave readers asking for more historical details and less emotional opinions. Had I known that, I might have passed on this biography and instead explore Mr McCullough's fictional work   This simply isn't history.  In real life, people do things for reasons.  Historians explain what happened and (to some extent) why.  That is how they are able to infer as yet unknown details and even predict future attitudes and acts.  Pappe gets plenty of facts wrong, but his biggest failing is to ascribe incorrect or even impossible motives to many of the people of the region.  This book is propaganda masquerading as history.    I know a lot of people liked this book, but I felt like it put too much pressure on me to pack on the pounds.  I didn't realise so much of the book was focused on diet.  It says you should plan on gaining a pound a week, and the more you gain the healthier your babies will be.  Well the first 13 weeks I managed to gain NOTHING, and I felt horrible about it, but food made me so sick the last thing I could do was eat MORE food to try to gain weight.  The book said that according to my starting weight I should try to gain 50 - 60 pounds during my pregnancy!  I decided to stop reading the book, and so far, just going by what my gut says about what to eat and when, I've managed to put on 20 pounds.  My twins are measuring perfectly and are very healthy.  This book isn't horrible, but I would check it out of a library or borrow it or buy it used, don't spend the $ on a new one... and be prepared to put it down if it doesn't sound right to you   Though this book does present all the necessary information for learning about abnormal psychology, it's the dryest, most aesthetically difficult to read textbook... especially if you happen to be studying the material online/through independent study.  The publisher needs to redesign the book and/or you need to have a better online course professor. It feels nearly impossible to be interested in this material (which is interesting in itself) if you have to read the textbook front to back on your own without any instruction.   I bought this audio CD set at the Borders store, without the opportunity to preview the narration. Had I been able to do so, I probably never would have purchased it, let alone paid full bookstore price for it. But I needed an audiobook for my long drive the next day, so I relented.   Lesson learned.  The audio quality is very insonsistent, at at times very poor, having been transcribed from the original audiotape recording.   While the author is obviously greatly informed on the historical and geopolitical details of the Middle East, it does read very much like a history text. With the amount of detail presented, and the wide scope of coverage from one end of Europe reaching into the former Soviet states and beyond, one immediately feels the need for visual aids (maps, timelines, etc.) as guidance.   The reader's narration is monotononous, with a very constant cadence which dulls the senses. Each sentence sounds the same as the last. This has the unfortunate effect of rendering each piece of information presented as no more significant than any other, and so all of the events seem to be lost to obscurity. After a while, the narration becomes little more than background noise. No information is retained by the listener   Nothing in this book was usable for me.  Okay, very little.  If I was trying to write the next _Ethan Frome_, then this book would be perfect.  Instead I write sci-fi and fantasy.  I was looking for tips to improve my description of things; this book recommends describing different things.  Too much emphasis on metaphor (which is a wonderful tool but a tad obvious).  If you want to write in a way people might actually communicate, this book might be a waste of your time.  HOWEVER, poets and pure-literary writers might find it more useful than I did   When I found \"Hour Game\" in paperback at our local library's monthly book sale, I thought I had hit pay dirt.  But I cannot believe that this author who wrote such gripping gems such as \"The Winner\" and \"Absolute Power\" could turn out such a dog.  Long, boring, and confusing.  I fear that Mr. Baldacci hired an \"aspiring young writer\" to \"help\" him crank out a quick book. I cannot pass this book along to my friends -- I couldn't do that to them.  It will be tossed into our blue recycle bin.  What a waste.  What a shame.   I was expecting this book to be a great story, but very disappointed. I cannot believe the publisher allowed the author to publish this book as it is. The book is insipid and dull,  has no flow, no story, or no plot. Let me present an example. I have read many insightful Newsweek articles by a writer Allan Sloan. For example, Sloan describes a Sprint merger event in this way, \"If talk is getting cheaper, why did MCI WorldCom pay $115 billion to buy Sprint? The once staid phone companies have launched a merger blitzkrieg in an effort to emerge at the center of the wired world. Can regulators handle the complex new order.....\"  It has a clear logical axis, and has a force to attract readers into it.   But Jeter describes it like this,  \"The merger announcement of WorldCom and Sprint spurred building activity around Worldcom headquarters as real estate developers readied for economic prosperity. The real estate inventory swelled with new planned unit.....\" It always presents off-center, trivial detail which makes a reader bored. 70% of books are consumed to described a dry and dull fact, like \"the merger of company A & B raised the stock to $X\" etc. There is no insight here.   But unfortunately, unlike Enron scandal, there is no other book that centered on the Worldcom scandal. You would get much better comprehension by collecting articles in Newsweek or Business Week, if you have LexisNexis or EBISCOhost.   If you are interested in a very traditional approach from a professional photographer, this book will provide lots of information.  It also provides valuable tips about controlling the dog.  But  for my taste, I found the photographic results to be uninspiring - too much posing, too much portraiture lighting, not enough of just plain capturing that  wonderful dog as it is   The worst book I've read (actually, I was listening to the audiobook).  The characters are completely unbelievable and the book is so repetetive that I found myself YELLING at the tape player, \"I KNOW, I KNOW ALREADY\".  I couldn't stand the torture anymore, I didn't even finish it.  I have enjoyed some of DS's earlier work, but will not buy another   Was not impressed.  Narrow scoped, personal reflections, applications limited.  I also read the male companion book Wild at heart and was also not impressed   Ethan Mordden's editors have allowed him to ruin what could possibly have been a good book.  This is the worst of his books on the various decades of the Broadway musical as the faults of the seventies book have widened into gulfs.  His political ramblings (often just slightly right of Ann Coulter and making as much sense) seep through the book, dragging it down.  The French people are slammed a number of times, along with the ACLU, Burt Lancaster (apparently, according to Ethan a good friend of Stalin) and the left in general, while the author defends Bush (and it does take some looking back over the page to figure out how he fits all this into a book on musical theatre).  The author's train of thought wanders like a bitter old man  all over the page in search of a target, any target.  It is often hard to stomach.  The truly sad fact about this is that the author often has quite cogent things to say about a particular musical and when he does stick to that, it can actually make one want to look at the work again.  An editor should have cleaned the work up before before allowing it on stage to greet its public.  The author is capable of better work   The Scientific Method applied to this book:  1) Form a hypothesis:  Great managers do something differently than mediocre managers. 2) Conduct an experiment:  Interview 80,000 managers. 3) Analyze data: ???this step is missing??? 4) Draw conclusions: Write this Book.  With the exception of the \"12 questions\", the authors make no attempt to back any their conclusions with the results of their study.  They make several insightful statements, such as \"many managers say they would like to define the right outcomes.\"  However, they do not even attempt to tell the reader how the study led them to this statement.  Did 90% of the managers interviewed state this?  Did 60% of the great managers state this while only 10% of the mediocre managers did?  Does \"many managers\" mean 100 managers?  100 managers seems like \"many managers\" at first, but considering 80,000 were interviewed I 100 managers is a negligible amount.  The entire book consists of several rational statements that are not supported by their study.    It seems to me that after conducting a huge study to find out what great managers do differently, the authors found almost no common trends.  However, since they put a lot of money and effort into conducting the study, they needed something to show for it and wrote this book.  If Buckingham and Coffman didn't claim this book was a result of \"the largest study of its kind,\" I would say it offers some decent advice;  however, since it does make this claim, I wish they would have back up their conclusions so the readers would be able to determine how valid they are.     This book was on a very interseting topic. The author took time in studying this topic. It was about the impending world oil shortage. That is the time when we, the world, will run out of oil. It tells you about Hubbert's analysis of the time or year when the world will run out of oil. They then talk about a lot of other things like where oil comes from. Then they talk about where oil is. They also talk about drilling for oil. They say it takes people over 20 drills to find oil. sometimes it will take even more time then that. Then they talk about the size of oil fields. They also reexamine Hubbert's analysis later on in the book. Rate plots is brought up because the more people driving the less oil we will have in the future. They talk about the future to fossil fuels and discuss elctricity and natural gases. They also talk about how much we already have so when oil runs out we need to think about all the stuff we already have. Hubbert was a brilliant man. some gas companys tried to make him stay quiet but he didn't want to he told everybody. The author was ver knowledgable and I could tell he knew what he was talking about.  I wouldn't recommend this book to anybody unless they are very smart and want to know about the impending world oil shortage. I say again the author took time in studying this topic but that was his downfall in that he went into to much depth and made it boring. When you read it you can tell the author knew what he was talking about but he got to much into detail which is very boring. I gave it a low rating because I have a short attenion span so it was hard enough for me to make it through this book   I have no idea how this book has received the ratings it has so far. I am a Lead Software Verification Engineer and am a perl programmer (for 10 years now) and found this book a complete waste of time and money. It has zero new ideas. The book tells you how to write standard tests for perl (this could have been accomplished in 2 pages). I love the format of the book. Please look elswhere if you wanna learn about perl or testing or perl testing   John Updike's literary criticism is perceptive and sparely written - every one of his non-fiction collections is worth reading.  But his novels have, from the very first, been precious, over-written and stifling in their desperate need for approbation.  When he writes fiction, he's like a dog doing tricks for reward.  And certainly, the rewards have come.  But for readers outside the US at least, it's all a little mystifying.  John Cheever was a far better writer, yet his work seems somehow to be regarded by Americans as the lesser canon.  Time will correct this mistake, no doubt, but in the meantime Updike pours out ever more cloying and over-heated work like this.  If I still have your attention, let me recommend the 'Collected Stories' of John Cheever.  Updike could only dream of writing prose like that.    I have read all of Sandra Brown books. I was disappointed in this one. I have almost all of her books in my bookcase, but when I finished this one I gave it away.    If you are a Christian, this book isn't for you. It is full of blashphemy, concluding that we must \"... forgive God\" and that we must love God \"... even if He isnt perfect\". Kusher even has the will to say that \"...God would not be God...\" without our love for Him. At one point he reduces God to an aminal saying that in the garden of Eden, when God said \"...let US make man in OUR image\" he was speking to animals and creation. Kusher explains that God created the world, and in the next paragraph that we came by evolution.    Since when was God in need of forgiveness? Isnt it that \"... God so loved the world\" and it wasnt us that loved God? I have no words in describing this book. It is full of error, because it does not base it self on the Gospel of Jesus Christ. All this book does is frees you from the thought that you are a sinner, and that it isnt your fault, and that actully you are a good person. Why do bad things happen to good people? Wrong question. There are no good people in the world in the first place. \" for all have sinned and come short of the glory of God...\" The world is in sin. The world DOES NOT HAVE GOOD PEOPLE!! Only by the grace of God, through faith in Jesus Christ you are made righteous. I beg you in the name of Jesus Christ to stay away from this book. It hasnt helped 4 million people, but it lied to them. Kusher, please turn from your ways and come to Jesus, then will you understand the life question \"WHY\"   I was raised in Virginia and never understood the details of the Battle of Yorktown. Now I see the big picture and how all the regional events in the glorious cause fit together. Immediately after finishing this book I returned to Yorktown with an entirely different understanding. I could relive the battle as if I had been there during the war. It was fascinating! I never learned this from history books.  Male Age 60   When I found \"Hour Game\" in paperback at our local library's monthly book sale, I thought I had hit pay dirt.  But I cannot believe that this author who wrote such gripping gems such as \"The Winner\" and \"Absolute Power\" could turn out such a dog.  Long, boring, and confusing.  I fear that Mr. Baldacci hired an \"aspiring young writer\" to \"help\" him crank out a quick book. I cannot pass this book along to my friends -- I couldn't do that to them.  It will be tossed into our blue recycle bin.  What a waste.  What a shame.   The setting of this book is beautiful, exotic, and interesting. The author, unfortunately, does nothing to take advantage of this. I am shocked that this book could possibly have won a National Book Award. It must mean that either the award itself is meaningless, or that there were some truly dreadful books out that year -- which I doubt. The topic of this book could have been more ably handled by just about anyone else, as far as I am concerned. I can't imagine it being done worse! Tuck's writing style -- short vignettes or episodes, one after another -- is terribly ineffective and disjointed. I felt completely detached from all of the characters. I didn't feel like I gained any understanding of who they were, and was unmoved when they died or otherwise encountered tragedies. Another thing that completely irritated me were Tuck's sexual references. Throughout the novel, Tuck would end her lame vignettes with one or two sentences mentioning some crass sexual encounter (a finger inserted in an unmentionable place or a character participating in a masturbating contest, for example). These sentences seem to be thrown in just to shock or perhaps to intrigue the reader; all they did was gross me out. They were written in such a way that they seemed to have been written by a teenage boy, not an adult woman trying to tell a compelling story. I don't know what Tuck was trying to do in this novel. I think she has failed to write anything that succeeds on any level: It is not entertaining. It is not profound. It is not educational. It is not beautiful. At only 248 pages, I can't say it was even a quick read. Utterly forgettable, once you get past the irritation of having wasted your time reading it.   No longer intended to be a comprehensive reference, the Guinness Book is now a sort of compilation of interesting superlatives with oversized pictures and many features that aren't even actual records (\"Most Overrated Celebrity\").  If you're going to do this, why not offer one edition that plays it by the book?  So dies a noble institution   I try to read items that I would not necessarily agree with. However, this piece of doggerel is nothing but exagerrations, misquotes, and spin. She uses tacky research to make points that don't exist, then brushes off any critique as \"liberal bias\". If you are a conservative, please read something that will allow us to discuss matters. Coulters' book should be titled \"Slander: Liberal Lies I Made Up.   How can a best-selling author like Simon Winchester take an event as exciting as the San Francisco Earthquake of 1906 and turn it into a tedious snooze-fest? One answer: write as if you had just discovered an adjective mine and were free to throw in extra descripitive terms on every line until listeners scream for an end to florid phrases. Another: strive to break the record for most clich?s in a single paragraph. Finally: write about events in 1906 as if no one but Simon Winchester had ever before thought about their consequences -- thus, everything in this tedious narrative becomes about Simon. Simon and the raccoons; Simon on the failing American economy; Simon attempting to reproduce American accents. This is a CD set for avoiding   I am not a right winger whatsoever, am against our involvement in the Mid East but did read this book. I can't say it better than Alan Dershowitz who commented about Chomsky's writing in general: many people buy his books and the page that is folded down is never greater than page 16   I like Evanovich novels for a light read and a few laughs, and usually her hero and heroine are downright combustible - the Stephanie Plum and Joe Morelli relationship, sustained through 12 books so far, being a case in point. But Full Scoop was actually a trial to get through. I could hear another voice in there which was distracting and interrupted Evanovich's comedic rhythm. The whole tone of the writing was down about five notches from what I have come to expect from Evanovich. The silly villains were either being too goofy or too violent, leaving us wondering were we supposed to be amused or frightened? The least forgivable of the sins committed in Full Scoop was the fact that there was absolutely no chemistry between Maggie and Zack. None at all. So it's hard to label the book: a sort of but not really romance, an almost but not much of a woman-in-danger.... maybe a new genre altogether - the slapstick thriller   I was really looking forward to both the book and the movie. Unfortunately I think both are very much overrated. Character development is non-existent. We're supposed to believe that the haunted, passive, timid character Dave was an all-star shortstop in high school? The book had a great premise and good beginning, but went nowhere interesting. The handling of Dave's character relies on cliche and we never really get insight into the book's most intriguing character.   I am a woman and was extremely offended at the portrayel of Black men in this book and in the movie.  The work offers NO BALANCE whatsoever which feels like a slap in the face.  One Black male in this book could have been something other than weak or cruel.  It is no wonder Spielberg was eager to take on the project and white people are going to the theater in droves.  The castration of the Black male has always been their main attraction, apparently Oprah's as well   It was just that dry and boring I never really connected with any of the characters, I  gave up reading about 3/4ths of the way through   Another parasite feeding off the leavings of much more substantial species.  Or perhaps a more apt ocean-related metaphor would be comparing Malkin's \"work\" to that of the brainless bivalves that cluster around sewer outflows, or the mindless jellyfish who flow with the ocean currents.  But like the ocean, neo-cons' writings should be taken with more than a grain of salt.  By the way, the reviewer below who wants someone named McCracken reported to Amazon.  I'm sure you can take it.  Instead, why don't you campaign for a zero-star feature for reviews.  Or perhaps a fact-checking service for publishers of political vitriol like this work of fiction.  I sure hope no public money has been spent on stuff like this   I had great expectations of this book but the more I read the worse it got. For a person who is supposed to be an 'Orientalist' he sure does hate his subject. Under cover of being a scholar Lewis promotes his neoconservative ideology as serious learning. This ideology is the guiding force behind the troubles in the Middle East today. Powerful people listen to Lewis and follow his advise on how to deal with the Muslim world. Unfortunately this advice comes from a person who has made it a lifelong mission to destroy and defame the very subject he claims to be an expert of   I didn't know why I chose to read this book. Anyway, it was disappointing, really. The book was slow, and it was too long for a story of its type. I mean, I think the book could go on without some of the parts. When I was reading it, I only thought of putting it down because it's making me go crazy. I thought the plot was shallow, but Taylor's self-conflict was even shallower. He kept on blaming himself about his father's death well then it's really his fault! He was a coward. If you don't believe me, go on and read about it... although you might get bored getting to that part because it's towards the end. And I hated it when this stupid conflict got in the way with his relationship with Denise. He was acting really immature! He should have at least thought about Denise but he was too selfish. It really sucked.  And yes, I know that this is supposed to be a romance novel... but I kept on looking for that love factor althroughout the book. And what did I find? NOTHING. Oh, what a waste. It's like Sparks tried very hard to make the situations in the story seem romantic but as a reader, it didn't really capture the whole essence of what romantic situations should be like.  If it hadn't been for my HRR (Home Reading Report) I wouldn't have finished reading this at all.  I guess I'm saying this because I'm not into this genre. Love stories are fine but this one... nah   One of the Spotlight Reviewers says that by combining two great characters--Sunny Randall and Jesse Stone--Robert B. Parker has doubled our fun.  Quite the reverse.  He has cut it in half.  The characterizations of Sunny and Jesse are enormously feeble; and the the rest of the characters are no great shakes, either.  Sunny's Irish Mafia uncle is a cardboard cutout.  Suitcase Simpson has three funny lines and is heard from no more.  The villains--Buddy, Erin, Missy, Gerard, Moon--are little more than vague names and stereotyping.  Spike is relegated to a scene and a half.  Oddly, the only interesting character is a very minor one: Eddie.  But he only stays around for 10 minutes  Even the plot is tissue-thin.  The love-story is lame; the sex-scenes boring.  Worst of all, who should appear but (Christ!) Susan Silverman, from the Spenser series: one of the dampest and most wooden and least interesting characters in fiction.  As with \"Cold Service\" and some others, Parker is just coasting with this one.  He is capable of far better.    I am not sure why the author thought he had something to offer on this subject.  There was no original thought or useful lessons on the topic that was promised by the title.  I read this book because it was the subject of an on-line book club for public health leaders but will be much more discriminating in the future regarding the purchase of books that are recommended by this group.   Ripping off King, but with more sex, shallower characters, and a Hollywood ending. Leave it on the shelf   I also bought the hype of NYTimes Best Seller.  Goes to show you some people have really bad taste.  The story was promising and could have been exciting without the awful dialog.  It seems like the author was being paid by the word - too much repetition, entire scenes which added nothing to the story, etc.  I would NEVER purchase another book by this author.  Glad it's over and this ones in the trash can...  Charli   I loved the earlier Nevada Barr mysteries, with their depiction of national parks and natural dangers.  I wasn't as happy with some of her latest efforts, but still hadn't given up on her.  Now I'm not so sure.  This latest novel started off well enough although the idea of two severely traumatized girls should have been a clue as to what would follow. The idea that they were from a polygamous Mormon sect was a red herring.  Perhaps it was Barr's attempt to show us how these girls were abused even before they met evil incarnate. The scenes where Anna realizes who the real villian is and her interaction with him and the poor tortured third traumatized girl went on for over 60 pages. Each scene was more disturbing the one before it. I found myself skimming the pages and still am not sure how she resolved all the loose ends. But I have absolutely no desire to re-read the end of the book and find out.  I wish I could say that I would read another Nevada Barr novel because I so thoroughly enjoyed the first ones. But after reading this disturbing, somewhat convoluted story, I would think twice.  If I did pick up another Anna Pigeon novel, I'd make sure I had something else to read if the story took another dark turn. I would certainly not stick with it to the end.   Just wanted to quickly say I haven't finished it yet, I am only on page 20  but already this book seems very overrated. The author dives straight in talking about going beyond the five senses to achieve spiritual consciousness, but this is nothing new and we are not even given any background on how the author developed his views. Instead, he strides arrogantly forward as though he is the ultimate, conclusive authority on spirituality, and it's very aloof and, actually, not an enlightened approach at all! I've just started the chapter on Karma and it's really starting to smell like just another mish mash of other people's opinions clothed as quasi-originality. It looks like I'm going to continue reading with a very cautious, vetting attitude toward the text. The fact that this was a bestseller only serves to show how genuinely interested people are to develop their spiritual consciousness - and how easily authors such as Zukav can cash in on their hopes and fears. Hey, that's the material world for you!   What a disjointed mess, talk about cashing in on fame.  All he did here was take a bunch of columns he wrote in the paper and called it a book.   I could have done better with the letter to the editor section of the paper.  I was not that enamored with Liar's Poker and this book has done it for me with this author.   It was just that the articles were not that relevant any more and his writing is not that good   Probability and Random Processes can be easily approached with grace and elegance so long as the professor and/or writer possess such talents.  All too often Albert Leon-Garcia comes across as a total wacko in the possession neither   Tim LaHaye, Jerry Jenkins, and others in the Pre-Trib circle, such as Ed Hindson, Tommy Ice, Chuck Missler, etc., continue to put forth the same deceptions that Hal Lindsey popularized decades ago.  The notion of a pre-tribulation rapture is foreign to scripture, it is foreign to the teachings of the early Church, and it is grooming the Church for destruction through ignorance and lack of preparation for what is really coming.  These men are novices and not prophecy \"experts\" or \"scholars\" by any stretch of the imagination; they are those who tickle the ears of gullible Christians.  Why continue to be deceived?  Tim Cohen, in his excellent book, The AntiChrist and a Cup of Tea, provides biblically sound and testable evidence to show that the coming AntiChrist is known NOW.  Not only that, the same author (Tim Cohen) has now put out the strongest presentation on the whole issue of the rapture EVER offered to the saints of God in Christ: The REAL Rapture.  If you really want to know the truth about the timing of the coming rapture, then you need to hear Tim Cohen's The REAL Rapture (based on a volume in his forthcoming \"Messiah, History, and the Tribulation Period\" series (see Prophecy House's web site for details on these items)   \"The End of Democracy\" (2003) is the best answer to this theory   When I realized early on the time I would waste on this assemblage of leftover quips packaged around a absurd concept, I resolved that I would alert other readers.   Generally I enjoy this author's works and anticipated this latest tome. I was surprised and dissappointed to find a lengthy novel which did nothing to disguise it's clues or probable developments. Everything was telegraphed and nothing was original. The conclusion was so lame that I was shocked that there was no effort to build suspense or intrigue.  My advice is to skip this one and wait for the reviews on his next   I was at the airport, getting ready to fly out to Cali and I found this book in the airport gift shop- I thought what a stroke of luck I had getting a Stephen King title at such a juncture... I'm a huge  fan. Despite the fact that I started and finished the book exactly as the plane took off and landed, I was sorely disappointed.  Much ado about nothing would be an overstatement \n"
     ]
    }
   ],
   "source": [
    "start = '<review_text>'\n",
    "end = '</review_text>'\n",
    "with open('all.txt', 'r') as f:\n",
    "    texts_true = f.read(100000)\n",
    "\n",
    "#print(texts_true)\n",
    "import re\n",
    "result = ' '.join(re.findall(r'<review_text>([^<>]+)</review_text>', texts_true))\n",
    "#print(result)\n",
    "result = result.replace('\\n', ' ')\n",
    "print(result)\n",
    "#print( ' '.join(re.findall(r'<review_text>([^<>]+)</review_text>', texts_true)))"
   ]
  },
  {
   "cell_type": "code",
   "execution_count": 115,
   "id": "1a3eacc0",
   "metadata": {},
   "outputs": [
    {
     "name": "stdout",
     "output_type": "stream",
     "text": [
      "count =  51806\n"
     ]
    }
   ],
   "source": [
    "count_true = len(result)\n",
    "print(\"count = \",count_true)"
   ]
  },
  {
   "cell_type": "code",
   "execution_count": 116,
   "id": "b6a04254",
   "metadata": {},
   "outputs": [
    {
     "data": {
      "text/plain": [
       "dict_items([('e', 1), ('t', 2), ('o', 3), ('i', 4), ('n', 5), ('s', 6), ('r', 7), ('h', 8), ('l', 9), ('d', 10), ('u', 11), ('c', 12), ('g', 13), ('w', 14), ('f', 15), ('b', 16), ('y', 17), ('v', 18), ('k', 19), (\"'\", 20), ('j', 21), ('x', 22), ('0', 23), ('q', 24), ('z', 25), ('1', 26), ('2', 27), ('6', 28), ('9', 29), ('3', 30), ('7', 31), ('4', 32), ('8', 33), ('5', 34)])"
      ]
     },
     "execution_count": 116,
     "metadata": {},
     "output_type": "execute_result"
    }
   ],
   "source": [
    "from keras.preprocessing.text import Tokenizer\n",
    "# разбиваем эти высказывания на слова\n",
    "maxWordsCount = 20000\n",
    "tokenizer = Tokenizer(num_words=maxWordsCount, filters='!–\"—#$%&amp;()*+,-./:;<=>?@[\\\\]^_`{|}~\\t\\n\\r«»',\n",
    "                         lower=True, split=' ', char_level=False)\n",
    "tokenizer.fit_on_texts(result)\n",
    "\n",
    "word_2_index = tokenizer.word_index\n",
    "word_2_index.items()"
   ]
  },
  {
   "cell_type": "code",
   "execution_count": 117,
   "id": "f41e1bc2",
   "metadata": {},
   "outputs": [
    {
     "name": "stdout",
     "output_type": "stream",
     "text": [
      "[('t', 4021), ('h', 2180), ('i', 3163), ('s', 2663), ('b', 767), ('o', 3448), ('k', 444), ('g', 873), ('d', 1480), ('n', 2786)]\n",
      " \n"
     ]
    }
   ],
   "source": [
    "#начальный список с частотами появления\n",
    "dist = list(tokenizer.word_counts.items())\n",
    "print(dist[:10])\n",
    "print(result[0][:100])"
   ]
  },
  {
   "cell_type": "code",
   "execution_count": 118,
   "id": "dfd4febe",
   "metadata": {},
   "outputs": [],
   "source": [
    "#преобразуем текст в последовательность чисел в соответствии с полученным словарем\n",
    "data = tokenizer.texts_to_sequences(result)"
   ]
  },
  {
   "cell_type": "code",
   "execution_count": 119,
   "id": "690adbf9",
   "metadata": {},
   "outputs": [
    {
     "name": "stdout",
     "output_type": "stream",
     "text": [
      "[[0 0 0 ... 0 0 0]\n",
      " [0 0 0 ... 0 0 2]\n",
      " [0 0 0 ... 0 0 8]\n",
      " ...\n",
      " [0 0 0 ... 0 0 5]\n",
      " [0 0 0 ... 0 0 2]\n",
      " [0 0 0 ... 0 0 0]]\n",
      "(51806, 190)\n"
     ]
    }
   ],
   "source": [
    "max_text_len = 190\n",
    "data_pad = pad_sequences(data, maxlen=max_text_len)\n",
    "print(data_pad)\n",
    "print(data_pad.shape)"
   ]
  },
  {
   "cell_type": "code",
   "execution_count": 120,
   "id": "e85af1ea",
   "metadata": {},
   "outputs": [
    {
     "name": "stdout",
     "output_type": "stream",
     "text": [
      "(51806, 190) (51806, 2)\n"
     ]
    }
   ],
   "source": [
    "X = data_pad\n",
    "Y = np.array([[1, 0]]*count_true)\n",
    "print(X.shape, Y.shape)\n",
    "\n",
    "indeces = np.random.choice(X.shape[0], size=X.shape[0], replace=False)\n",
    "X = X[indeces]\n",
    "Y = Y[indeces]\n",
    "#print(X, Y)"
   ]
  },
  {
   "cell_type": "code",
   "execution_count": 121,
   "id": "ef9a0e1b",
   "metadata": {},
   "outputs": [
    {
     "data": {
      "text/plain": [
       "((41444, 190), (41444, 2))"
      ]
     },
     "execution_count": 121,
     "metadata": {},
     "output_type": "execute_result"
    }
   ],
   "source": [
    "from sklearn.model_selection import train_test_split\n",
    "X_train, X_test, Y_train, Y_test = train_test_split(X, \n",
    "                                                    Y,\n",
    "                                                    test_size=0.2)\n",
    "\n",
    "X_train.shape, Y_train.shape"
   ]
  },
  {
   "cell_type": "code",
   "execution_count": 122,
   "id": "74ad480d",
   "metadata": {},
   "outputs": [
    {
     "name": "stdout",
     "output_type": "stream",
     "text": [
      "Model: \"sequential_3\"\n",
      "_________________________________________________________________\n",
      " Layer (type)                Output Shape              Param #   \n",
      "=================================================================\n",
      " embedding_3 (Embedding)     (None, 190, 128)          2560000   \n",
      "                                                                 \n",
      " lstm_6 (LSTM)               (None, 190, 64)           49408     \n",
      "                                                                 \n",
      " lstm_7 (LSTM)               (None, 32)                12416     \n",
      "                                                                 \n",
      " dense_3 (Dense)             (None, 2)                 66        \n",
      "                                                                 \n",
      "=================================================================\n",
      "Total params: 2,621,890\n",
      "Trainable params: 2,621,890\n",
      "Non-trainable params: 0\n",
      "_________________________________________________________________\n",
      "Epoch 1/25\n",
      "1296/1296 [==============================] - 138s 105ms/step - loss: 0.0229 - accuracy: 1.0000 - val_loss: 1.6491e-04 - val_accuracy: 1.0000\n",
      "Epoch 2/25\n",
      "1296/1296 [==============================] - 156s 120ms/step - loss: 9.4989e-05 - accuracy: 1.0000 - val_loss: 5.8863e-05 - val_accuracy: 1.0000\n",
      "Epoch 3/25\n",
      "1296/1296 [==============================] - 160s 123ms/step - loss: 4.2624e-05 - accuracy: 1.0000 - val_loss: 3.0601e-05 - val_accuracy: 1.0000\n",
      "Epoch 4/25\n",
      "1296/1296 [==============================] - 158s 122ms/step - loss: 2.3850e-05 - accuracy: 1.0000 - val_loss: 1.8239e-05 - val_accuracy: 1.0000\n",
      "Epoch 5/25\n",
      "1296/1296 [==============================] - 151s 117ms/step - loss: 1.4261e-05 - accuracy: 1.0000 - val_loss: 1.0848e-05 - val_accuracy: 1.0000\n",
      "Epoch 6/25\n",
      "1296/1296 [==============================] - 150s 116ms/step - loss: 8.4348e-06 - accuracy: 1.0000 - val_loss: 6.3181e-06 - val_accuracy: 1.0000\n",
      "Epoch 7/25\n",
      "1296/1296 [==============================] - 150s 116ms/step - loss: 4.8674e-06 - accuracy: 1.0000 - val_loss: 3.5763e-06 - val_accuracy: 1.0000\n",
      "Epoch 8/25\n",
      "1296/1296 [==============================] - 150s 116ms/step - loss: 2.7388e-06 - accuracy: 1.0000 - val_loss: 2.0266e-06 - val_accuracy: 1.0000\n",
      "Epoch 9/25\n",
      "1296/1296 [==============================] - 150s 116ms/step - loss: 1.5114e-06 - accuracy: 1.0000 - val_loss: 1.0729e-06 - val_accuracy: 1.0000\n",
      "Epoch 10/25\n",
      "1296/1296 [==============================] - 150s 116ms/step - loss: 8.2155e-07 - accuracy: 1.0000 - val_loss: 5.9605e-07 - val_accuracy: 1.0000\n",
      "Epoch 11/25\n",
      "1296/1296 [==============================] - 147s 114ms/step - loss: 4.4650e-07 - accuracy: 1.0000 - val_loss: 3.5763e-07 - val_accuracy: 1.0000\n",
      "Epoch 12/25\n",
      "1296/1296 [==============================] - 131s 101ms/step - loss: 2.4437e-07 - accuracy: 1.0000 - val_loss: 1.1921e-07 - val_accuracy: 1.0000\n",
      "Epoch 13/25\n",
      "1296/1296 [==============================] - 131s 101ms/step - loss: 1.1921e-07 - accuracy: 1.0000 - val_loss: 1.1921e-07 - val_accuracy: 1.0000\n",
      "Epoch 14/25\n",
      "1296/1296 [==============================] - 131s 101ms/step - loss: 7.5425e-08 - accuracy: 1.0000 - val_loss: 0.0000e+00 - val_accuracy: 1.0000\n",
      "Epoch 15/25\n",
      "1296/1296 [==============================] - 131s 101ms/step - loss: 0.0000e+00 - accuracy: 1.0000 - val_loss: 0.0000e+00 - val_accuracy: 1.0000\n",
      "Epoch 16/25\n",
      "1296/1296 [==============================] - 131s 101ms/step - loss: 0.0000e+00 - accuracy: 1.0000 - val_loss: 0.0000e+00 - val_accuracy: 1.0000\n",
      "Epoch 17/25\n",
      "1296/1296 [==============================] - 131s 101ms/step - loss: 0.0000e+00 - accuracy: 1.0000 - val_loss: 0.0000e+00 - val_accuracy: 1.0000\n",
      "Epoch 18/25\n",
      "1296/1296 [==============================] - 145s 112ms/step - loss: 0.0000e+00 - accuracy: 1.0000 - val_loss: 0.0000e+00 - val_accuracy: 1.0000\n",
      "Epoch 19/25\n",
      "1296/1296 [==============================] - 151s 116ms/step - loss: 0.0000e+00 - accuracy: 1.0000 - val_loss: 0.0000e+00 - val_accuracy: 1.0000\n",
      "Epoch 20/25\n",
      "1296/1296 [==============================] - 152s 117ms/step - loss: 0.0000e+00 - accuracy: 1.0000 - val_loss: 0.0000e+00 - val_accuracy: 1.0000\n",
      "Epoch 21/25\n",
      "1296/1296 [==============================] - 152s 117ms/step - loss: 0.0000e+00 - accuracy: 1.0000 - val_loss: 0.0000e+00 - val_accuracy: 1.0000\n",
      "Epoch 22/25\n",
      "1296/1296 [==============================] - 150s 116ms/step - loss: 0.0000e+00 - accuracy: 1.0000 - val_loss: 0.0000e+00 - val_accuracy: 1.0000\n",
      "Epoch 23/25\n",
      "1296/1296 [==============================] - 150s 116ms/step - loss: 0.0000e+00 - accuracy: 1.0000 - val_loss: 0.0000e+00 - val_accuracy: 1.0000\n",
      "Epoch 24/25\n",
      "1296/1296 [==============================] - 150s 116ms/step - loss: 0.0000e+00 - accuracy: 1.0000 - val_loss: 0.0000e+00 - val_accuracy: 1.0000\n",
      "Epoch 25/25\n",
      "1296/1296 [==============================] - 149s 115ms/step - loss: 0.0000e+00 - accuracy: 1.0000 - val_loss: 0.0000e+00 - val_accuracy: 1.0000\n",
      "324/324 [==============================] - 13s 39ms/step - loss: 0.0000e+00 - accuracy: 1.0000\n"
     ]
    }
   ],
   "source": [
    "from tensorflow.keras.optimizers import Adam\n",
    "#рекуррентный слой LSTM\n",
    "model = Sequential()\n",
    "model.add(Embedding(maxWordsCount, 128, input_length = max_text_len))\n",
    "model.add(LSTM(64, activation='tanh', return_sequences=True))\n",
    "model.add(LSTM(32, activation='tanh'))\n",
    "model.add(Dense(2, activation='softmax'))\n",
    "model.summary()\n",
    " \n",
    "model.compile(loss='categorical_crossentropy', metrics=['accuracy'], optimizer=Adam(0.0001))\n",
    "\n",
    "history = model.fit(X_train, Y_train, batch_size=32, epochs=25, validation_data=(X_test, Y_test))\n",
    "\n",
    "scores = model.evaluate(X_test, Y_test, verbose=1)\n",
    "model.save('en-de-model.h5')"
   ]
  },
  {
   "cell_type": "markdown",
   "id": "f823333f",
   "metadata": {},
   "source": [
    "t = \"It's a good book\".lower()\n",
    "data = tokenizer.texts_to_sequences([t])\n",
    "data_pad = pad_sequences(data, maxlen=max_text_len)"
   ]
  },
  {
   "cell_type": "markdown",
   "id": "f597ac0f",
   "metadata": {},
   "source": [
    "reverse_word_map = dict(map(reversed, tokenizer.word_index.items()))\n",
    " \n",
    "def sequence_to_text(list_of_indices):\n",
    "    words = [reverse_word_map.get(letter) for letter in list_of_indices]\n",
    "    \n",
    "print(sequence_to_text(data[0]))"
   ]
  },
  {
   "cell_type": "markdown",
   "id": "b1feb413",
   "metadata": {},
   "source": [
    "print(data)"
   ]
  },
  {
   "cell_type": "markdown",
   "id": "8997a017",
   "metadata": {},
   "source": [
    "plt.plot(history.history['acc'])\n",
    "plt.plot(history.history['val_acc'])\n",
    "plt.title('model accuracy')\n",
    "plt.ylabel('accuracy')\n",
    "plt.xlabel('epoch')\n",
    "plt.legend(['train', 'val'], loc='upper left')\n",
    "plt.show()"
   ]
  },
  {
   "cell_type": "markdown",
   "id": "cdc7cbc8",
   "metadata": {},
   "source": [
    "def vectorize_sequences(sequences, dimension=10000): \n",
    "    results = np.zeros((len(sequences), dimension)) \n",
    "    for i, sequence in enumerate(sequences): \n",
    "        results[i, sequence] = 1. \n",
    "        return results\n",
    "\n",
    "x_train = vectorize_sequences(x_train, max_words) \n",
    "x_test = vectorize_sequences(x_test, max_words) "
   ]
  },
  {
   "cell_type": "code",
   "execution_count": 123,
   "id": "b9755826",
   "metadata": {},
   "outputs": [],
   "source": [
    "embedding_matrix = model.layers[0].get_weights()[0]"
   ]
  },
  {
   "cell_type": "code",
   "execution_count": 124,
   "id": "8ccd8787",
   "metadata": {},
   "outputs": [
    {
     "name": "stdout",
     "output_type": "stream",
     "text": [
      "Номер слова [[13], [3], [3], [10]]\n",
      "1/1 [==============================] - 1s 557ms/step\n"
     ]
    },
    {
     "data": {
      "text/plain": [
       "array([[1.0000000e+00, 3.0770495e-09],\n",
       "       [1.0000000e+00, 3.0765741e-09],\n",
       "       [1.0000000e+00, 3.0765741e-09],\n",
       "       [1.0000000e+00, 3.0767502e-09]], dtype=float32)"
      ]
     },
     "execution_count": 124,
     "metadata": {},
     "output_type": "execute_result"
    }
   ],
   "source": [
    "word = 'good'\n",
    "\n",
    "data = tokenizer.texts_to_sequences(word)\n",
    "data_pad = pad_sequences(data, maxlen=max_text_len)\n",
    "print('Номер слова', data) \n",
    "#print('Вектор для слова', data_pad)\n",
    "model.predict(data_pad, batch_size= 5, verbose=1)"
   ]
  },
  {
   "cell_type": "markdown",
   "id": "bc1830c5",
   "metadata": {},
   "source": [
    "##Получается, что данный комментарий с вероятностью 0.9999993 является хорошим, а с 0.0000007534602 - плохим"
   ]
  },
  {
   "cell_type": "code",
   "execution_count": 125,
   "id": "e646abb8",
   "metadata": {},
   "outputs": [
    {
     "name": "stdout",
     "output_type": "stream",
     "text": [
      "1/1 [==============================] - 0s 30ms/step\n",
      "[[1.0000000e+00 3.0789693e-09]]\n",
      "0\n"
     ]
    }
   ],
   "source": [
    "# Creating a reverse dictionary\n",
    "reverse_word_map = word_2_index.items()\n",
    "\n",
    "# Function takes a tokenized sentence and returns the words\n",
    "def sequence_to_text(list_of_indices):\n",
    "    # Looking up words in dictionary\n",
    "    words = [reverse_word_map.get(letter) for letter in list_of_indices]\n",
    "    return(words)\n",
    "\n",
    "t = 'I like this movie. Great acting and an interesting plot'\n",
    "data = tokenizer.texts_to_sequences([t])\n",
    "data_pad = pad_sequences(data, maxlen=max_text_len)\n",
    "res = model.predict(data_pad)\n",
    "print(res, np.argmax(res), sep='\\n')"
   ]
  },
  {
   "cell_type": "markdown",
   "id": "66eeeb8f",
   "metadata": {},
   "source": [
    "##Получается, что данный комментарий с вероятностью 0.53 является хорошим, а с 0.46 - плохим"
   ]
  },
  {
   "cell_type": "markdown",
   "id": "6702606f",
   "metadata": {},
   "source": [
    "plt.plot(history.history['accuracy'])\n",
    "plt.plot(history.history['val_accuracy'])\n",
    "plt.title('model accuracy')\n",
    "plt.ylabel('accuracy')\n",
    "plt.xlabel('epoch')\n",
    "plt.legend(['train', 'val'], loc='upper left')\n",
    "plt.show()"
   ]
  }
 ],
 "metadata": {
  "kernelspec": {
   "display_name": "Python 3 (ipykernel)",
   "language": "python",
   "name": "python3"
  },
  "language_info": {
   "codemirror_mode": {
    "name": "ipython",
    "version": 3
   },
   "file_extension": ".py",
   "mimetype": "text/x-python",
   "name": "python",
   "nbconvert_exporter": "python",
   "pygments_lexer": "ipython3",
   "version": "3.9.13"
  }
 },
 "nbformat": 4,
 "nbformat_minor": 5
}
